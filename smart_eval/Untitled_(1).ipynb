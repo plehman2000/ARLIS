{
  "cells": [
    {
      "cell_type": "code",
      "execution_count": null,
      "id": "O2vkiyecrGWC",
      "metadata": {
        "id": "O2vkiyecrGWC"
      },
      "outputs": [],
      "source": [
        "!python -m spacy download en_core_web_md"
      ]
    },
    {
      "cell_type": "code",
      "execution_count": 2,
      "id": "10b405e8-7f0d-4fa8-bc41-831ea6a64e4d",
      "metadata": {
        "id": "10b405e8-7f0d-4fa8-bc41-831ea6a64e4d"
      },
      "outputs": [],
      "source": [
        "import spacy\n",
        "nlp = spacy.load(\"en_core_web_md\")\n",
        "    \n",
        "def embed(x1):\n",
        "    reference_vector = nlp(x1).vector\n",
        "    return reference_vector"
      ]
    },
    {
      "cell_type": "code",
      "execution_count": 3,
      "id": "c8RQ9IwNp46b",
      "metadata": {
        "colab": {
          "base_uri": "https://localhost:8080/"
        },
        "id": "c8RQ9IwNp46b",
        "outputId": "5cd3d353-62ad-4155-f7fc-89e2e55702d0"
      },
      "outputs": [
        {
          "name": "stdout",
          "output_type": "stream",
          "text": [
            "Installing collected packages: tokenizers, sentencepiece, huggingface-hub, transformers, sentence-transformers, keybert\n",
            "Successfully installed huggingface-hub-0.14.1 keybert-0.7.0 sentence-transformers-2.2.2 sentencepiece-0.1.99 tokenizers-0.13.3 transformers-4.29.2\n"
          ]
        }
      ],
      "source": [
        "!pip install keybert\n"
      ]
    },
    {
      "cell_type": "code",
      "execution_count": 4,
      "id": "0d61e255-4f1e-48f3-a63b-c291e1c96d10",
      "metadata": {
        "id": "0d61e255-4f1e-48f3-a63b-c291e1c96d10"
      },
      "outputs": [],
      "source": [
        "from tqdm import tqdm\n",
        "import pandas as pd\n",
        "import numpy as np\n",
        "import torch\n",
        "from keybert import KeyBERT"
      ]
    },
    {
      "cell_type": "code",
      "execution_count": 6,
      "id": "8a05b47a-8503-464d-8d2a-758fed961b61",
      "metadata": {
        "id": "8a05b47a-8503-464d-8d2a-758fed961b61"
      },
      "outputs": [],
      "source": [
        "\n",
        "kw_model = KeyBERT()\n",
        "\n",
        "def get_topics(text, method=\"spacy\"):\n",
        "    if method == \"keybert\":\n",
        "        topic_entities = kw_model.extract_keywords(text)  \n",
        "        \n",
        "    \n",
        "    return topic_entities\n",
        "\n",
        "df = pd.read_csv(\"fort.csv\")\n",
        "\n",
        "samples = []\n",
        "for row in df.iterrows():\n",
        "    row = row[1]\n",
        "    sample = {\n",
        "        \"text\": row['text_EN'],\n",
        "        \"topics\": [row['Topic 1'].split(\"|\")[0], row['Topic 2'].split(\"|\")[0]]\n",
        "    }\n",
        "    samples.append(sample)\n",
        "    \n",
        "\n",
        "# * Scorers/Metrics\n",
        "# from rouge_score import rouge_scorer\n",
        "def get_vector_similarity(x1, x2):\n",
        "    similarity = torch.nn.functional.cosine_similarity(x1=x1, x2=x2, dim=-1)\n",
        "    return similarity\n",
        "\n",
        "\n",
        "# rougeL = rouge_scorer.RougeScorer(['rougeL'], use_stemmer=True)\n",
        "\n",
        "nlp = spacy.load(\"en_core_web_md\")\n",
        "    \n",
        "\n",
        "def calculate_metric(x1,x2):\n",
        "    reference_vector = nlp(x1).vector\n",
        "    text_vector = nlp(x2).vector\n",
        "    return get_vector_similarity(torch.tensor(reference_vector), torch.tensor(text_vector))\n",
        "\n",
        "\n",
        "\n",
        "\n"
      ]
    },
    {
      "cell_type": "code",
      "execution_count": 10,
      "id": "82384977-90f0-41dc-b8fd-877506e3a536",
      "metadata": {
        "colab": {
          "base_uri": "https://localhost:8080/"
        },
        "collapsed": true,
        "id": "82384977-90f0-41dc-b8fd-877506e3a536",
        "outputId": "6c1bc182-4a87-4f8c-e6f6-7b557519242d"
      },
      "outputs": [
        {
          "name": "stdout",
          "output_type": "stream",
          "text": [
            "Looking in indexes: https://pypi.org/simple, https://us-python.pkg.dev/colab-wheels/public/simple/\n",
            "Collecting hdbscan\n",
            "  Using cached hdbscan-0.8.29.tar.gz (5.2 MB)\n",
            "  Installing build dependencies ... \u001b[?25l\u001b[?25hdone\n",
            "  Getting requirements to build wheel ... \u001b[?25l\u001b[?25hdone\n",
            "  Preparing metadata (pyproject.toml) ... \u001b[?25l\u001b[?25hdone\n",
            "Requirement already satisfied: cython>=0.27 in /usr/local/lib/python3.10/dist-packages (from hdbscan) (0.29.34)\n",
            "Requirement already satisfied: numpy>=1.20 in /usr/local/lib/python3.10/dist-packages (from hdbscan) (1.22.4)\n",
            "Requirement already satisfied: scipy>=1.0 in /usr/local/lib/python3.10/dist-packages (from hdbscan) (1.10.1)\n",
            "Requirement already satisfied: scikit-learn>=0.20 in /usr/local/lib/python3.10/dist-packages (from hdbscan) (1.2.2)\n",
            "Requirement already satisfied: joblib>=1.0 in /usr/local/lib/python3.10/dist-packages (from hdbscan) (1.2.0)\n",
            "Requirement already satisfied: threadpoolctl>=2.0.0 in /usr/local/lib/python3.10/dist-packages (from scikit-learn>=0.20->hdbscan) (3.1.0)\n",
            "Building wheels for collected packages: hdbscan\n",
            "  Building wheel for hdbscan (pyproject.toml) ... \u001b[?25l\u001b[?25hdone\n",
            "  Created wheel for hdbscan: filename=hdbscan-0.8.29-cp310-cp310-linux_x86_64.whl size=3542016 sha256=46fa94808936f9b99160d1a1c62d106cc5d2d2ef2c78bce5daa330c3dbf12198\n",
            "  Stored in directory: /root/.cache/pip/wheels/dc/52/e3/6c6b60b126b4d5c4370cb5ac071b82950f91649d62d72f7f56\n",
            "Successfully built hdbscan\n",
            "Installing collected packages: hdbscan\n",
            "Successfully installed hdbscan-0.8.29\n"
          ]
        }
      ],
      "source": [
        "!pip install hdbscan"
      ]
    },
    {
      "cell_type": "code",
      "execution_count": 9,
      "id": "0NTxq-BCqvwj",
      "metadata": {
        "id": "0NTxq-BCqvwj"
      },
      "outputs": [],
      "source": [
        "import sklearn"
      ]
    },
    {
      "cell_type": "code",
      "execution_count": 8,
      "id": "8d920d63-c50e-499f-9c5c-414bab055967",
      "metadata": {
        "colab": {
          "base_uri": "https://localhost:8080/"
        },
        "collapsed": true,
        "id": "8d920d63-c50e-499f-9c5c-414bab055967",
        "outputId": "384e6c7d-5bdd-49ae-c92c-1bba07ac0de5"
      },
      "outputs": [
        {
          "name": "stderr",
          "output_type": "stream",
          "text": [
            "100%|██████████| 64/64 [01:08<00:00,  1.07s/it]\n"
          ]
        }
      ],
      "source": [
        "\n",
        "all_keywords = set([])\n",
        "for sample in tqdm(samples):\n",
        "    topics = get_topics(sample[\"text\"], method=\"keybert\")\n",
        "    sample['spacy_topics'] = [x[0] for x in topics]\n",
        "    [all_keywords.add(x) for x in sample['spacy_topics']]\n",
        "    # print(sample['spacy_topics'])\n",
        "    \n",
        "    \n",
        "# print(all_keywords)"
      ]
    },
    {
      "cell_type": "code",
      "execution_count": 12,
      "id": "51feb7e8-6208-48ff-a082-de9c0738f656",
      "metadata": {
        "id": "51feb7e8-6208-48ff-a082-de9c0738f656"
      },
      "outputs": [],
      "source": [
        "keyword_embedding_dict = {}\n",
        "\n",
        "all_keywords = list(all_keywords) # ORDER IS IMPORTANT to get embedding \n",
        "\n",
        "for x in all_keywords:\n",
        "    keyword_embedding_dict[x] = embed(x)"
      ]
    },
    {
      "cell_type": "code",
      "execution_count": 68,
      "id": "_YMaH_brtgXu",
      "metadata": {
        "colab": {
          "base_uri": "https://localhost:8080/"
        },
        "id": "_YMaH_brtgXu",
        "outputId": "058a5876-9947-48da-9d1d-657339566a72"
      },
      "outputs": [
        {
          "name": "stdout",
          "output_type": "stream",
          "text": [
            "0.9584872681455207\n"
          ]
        }
      ],
      "source": [
        "# from sklearn.decomposition import PCA\n",
        "\n",
        "# pca = PCA(n_components=100)\n",
        "# out = pca.fit_transform(word_values)\n",
        "# print(np.sum(pca.explained_variance_ratio_))\n"
      ]
    },
    {
      "cell_type": "code",
      "execution_count": 73,
      "id": "FOy4j9kdwx66",
      "metadata": {
        "id": "FOy4j9kdwx66"
      },
      "outputs": [],
      "source": [
        "import numpy as np\n",
        "from sklearn.manifold import TSNE\n",
        "out = TSNE(n_components=2, learning_rate='auto',init='random', perplexity=3).fit_transform(np.array(word_values))"
      ]
    },
    {
      "cell_type": "code",
      "execution_count": 103,
      "id": "kLf2moMwvR9o",
      "metadata": {
        "id": "kLf2moMwvR9o"
      },
      "outputs": [],
      "source": [
        "import hdbscan\n",
        "word_values = list(keyword_embedding_dict.values())\n",
        "clusterer = hdbscan.HDBSCAN(min_cluster_size=5)\n",
        "cluster_labels = clusterer.fit_predict(out)"
      ]
    },
    {
      "cell_type": "code",
      "execution_count": 104,
      "id": "XUWUQIeQtu2U",
      "metadata": {
        "id": "XUWUQIeQtu2U"
      },
      "outputs": [],
      "source": [
        "x = out[:,0]\n",
        "y = out[:,1]"
      ]
    },
    {
      "cell_type": "code",
      "execution_count": null,
      "id": "kczDSMb33Zg8",
      "metadata": {
        "id": "kczDSMb33Zg8"
      },
      "outputs": [],
      "source": []
    },
    {
      "cell_type": "code",
      "execution_count": 118,
      "id": "UHPBIjEUtC-K",
      "metadata": {
        "colab": {
          "base_uri": "https://localhost:8080/",
          "height": 542
        },
        "id": "UHPBIjEUtC-K",
        "outputId": "0025b407-2c02-4e0e-e39d-5a84ac235ba2"
      },
      "outputs": [
        {
          "data": {
            "text/html": [
              "<html>\n",
              "<head><meta charset=\"utf-8\" /></head>\n",
              "<body>\n",
              "    <div>            <script src=\"https://cdnjs.cloudflare.com/ajax/libs/mathjax/2.7.5/MathJax.js?config=TeX-AMS-MML_SVG\"></script><script type=\"text/javascript\">if (window.MathJax && window.MathJax.Hub && window.MathJax.Hub.Config) {window.MathJax.Hub.Config({SVG: {font: \"STIX-Web\"}});}</script>                <script type=\"text/javascript\">window.PlotlyConfig = {MathJaxConfig: 'local'};</script>\n",
              "        <script src=\"https://cdn.plot.ly/plotly-2.18.2.min.js\"></script>                <div id=\"a36cdbaa-54c2-4884-897a-902adb003a95\" class=\"plotly-graph-div\" style=\"height:525px; width:100%;\"></div>            <script type=\"text/javascript\">                                    window.PLOTLYENV=window.PLOTLYENV || {};                                    if (document.getElementById(\"a36cdbaa-54c2-4884-897a-902adb003a95\")) {                    Plotly.newPlot(                        \"a36cdbaa-54c2-4884-897a-902adb003a95\",                        [{\"hovertemplate\":\"<b>%{hovertext}</b><br><br>x=%{x}<br>y=%{y}<br>color=%{marker.color}<extra></extra>\",\"hovertext\":[\"Rebuilding Process in Archaeology and Art from the 21st Century\",\"Entrepreneurial Success in Education: Using Past Achievements to Support Scholars\",\"Rebuilding Process in Archaeology and Art from the 21st Century\",\"Rebuilding Process in Archaeology and Art from the 21st Century\",\"The Role of Monarchs and Clergy in Voivodship.\",\"The impact of wars on European countries, with a focus on Ukraine,\",\"Polish Society under the Leadership of President Andrzej Duda\",\"Fuel Energy Production and Usage in Warehouses for Heating and Housekeeping\",\"The impact of wars on European countries, with a focus on Ukraine,\",\"Rebuilding Process in Archaeology and Art from the 21st Century\",\"Rebuilding Process in Archaeology and Art from the 21st Century\",\"Polish Society under the Leadership of President Andrzej Duda\",\"Polish Society under the Leadership of President Andrzej Duda\",\"Rebuilding Process in Archaeology and Art from the 21st Century\",\"The Impact of Economic Crises on Economists and Economics.\",\"Polish Society under the Leadership of President Andrzej Duda\",\"Rebuilding Process in Archaeology and Art from the 21st Century\",\"Polish Society under the Leadership of President Andrzej Duda\",\"The impact of wars on European countries, with a focus on Ukraine,\",\"Polish Society under the Leadership of President Andrzej Duda\",\"Rebuilding Process in Archaeology and Art from the 21st Century\",\"Polish Society under the Leadership of President Andrzej Duda\",\"\\\"Dietary Consumption and Funds Transfer in the Context of Inflation\",\"The general topic that balances specificity with generality is:Winter Storms and Rain\",\"Polish Society under the Leadership of President Andrzej Duda\",\"Polish Society under the Leadership of President Andrzej Duda\",\"Rebuilding Process in Archaeology and Art from the 21st Century\",\"The Role of Politicians in Nationalist and Socialist Movements During Revolution\",\"The impact of wars on European countries, with a focus on Ukraine,\",\"Rebuilding Process in Archaeology and Art from the 21st Century\",\"Rebuilding Process in Archaeology and Art from the 21st Century\",\"Fuel Energy Production and Usage in Warehouses for Heating and Housekeeping\",\"Rebuilding Process in Archaeology and Art from the 21st Century\",\"Polish Society under the Leadership of President Andrzej Duda\",\"The impact of wars on European countries, with a focus on Ukraine,\",\"Polish Society under the Leadership of President Andrzej Duda\",\"Rebuilding Process in Archaeology and Art from the 21st Century\",\"Polish Society under the Leadership of President Andrzej Duda\",\"Rebuilding Process in Archaeology and Art from the 21st Century\",\"Politics of Detainees: Appeals and Accusations.\",\"Polish Society under the Leadership of President Andrzej Duda\",\"Rebuilding Process in Archaeology and Art from the 21st Century\",\"Polish Society under the Leadership of President Andrzej Duda\",\"Fuel Energy Production and Usage in Warehouses for Heating and Housekeeping\",\"Rebuilding Process in Archaeology and Art from the 21st Century\",\"Rebuilding Process in Archaeology and Art from the 21st Century\",\"Rebuilding Process in Archaeology and Art from the 21st Century\",\"Polish Society under the Leadership of President Andrzej Duda\",\"Polish Society under the Leadership of President Andrzej Duda\",\"Rebuilding Process in Archaeology and Art from the 21st Century\",\"Polish Society under the Leadership of President Andrzej Duda\",\"Polish Society under the Leadership of President Andrzej Duda\",\"Polish Society under the Leadership of President Andrzej Duda\",\"Rebuilding Process in Archaeology and Art from the 21st Century\",\"Polish Society under the Leadership of President Andrzej Duda\",\"Polish Society under the Leadership of President Andrzej Duda\",\"Rebuilding Process in Archaeology and Art from the 21st Century\",\"The impact of wars on European countries, with a focus on Ukraine,\",\"Government Policies to Enforce Agreement Against Homophobia and Stigmatization in\",\"Polish Society under the Leadership of President Andrzej Duda\",\"Polish Society under the Leadership of President Andrzej Duda\",\"Polish Society under the Leadership of President Andrzej Duda\",\"Rebuilding Process in Archaeology and Art from the 21st Century\",\"Rebuilding Process in Archaeology and Art from the 21st Century\",\"Rebuilding Process in Archaeology and Art from the 21st Century\",\"Rebuilding Process in Archaeology and Art from the 21st Century\",\"Rebuilding Process in Archaeology and Art from the 21st Century\",\"The Role of Politicians in Nationalist and Socialist Movements During Revolution\",\"Fuel Energy Production and Usage in Warehouses for Heating and Housekeeping\",\"Fuel Energy Production and Usage in Warehouses for Heating and Housekeeping\",\"Politics of Detainees: Appeals and Accusations.\",\"Rebuilding Process in Archaeology and Art from the 21st Century\",\"Rebuilding Process in Archaeology and Art from the 21st Century\",\"Polish Society under the Leadership of President Andrzej Duda\",\"Polish Society under the Leadership of President Andrzej Duda\",\"Rebuilding Process in Archaeology and Art from the 21st Century\",\"Polish Society under the Leadership of President Andrzej Duda\",\"The general topic that balances specificity with generality is:Winter Storms and Rain\",\"Rebuilding Process in Archaeology and Art from the 21st Century\",\"Polish Society under the Leadership of President Andrzej Duda\",\"The Role of Politicians in Nationalist and Socialist Movements During Revolution\",\"Rebuilding Process in Archaeology and Art from the 21st Century\",\"The impact of wars on European countries, with a focus on Ukraine,\",\"Fuel Energy Production and Usage in Warehouses for Heating and Housekeeping\",\"Rebuilding Process in Archaeology and Art from the 21st Century\",\"\\\"Dietary Consumption and Funds Transfer in the Context of Inflation\",\"The Role of Politicians in Nationalist and Socialist Movements During Revolution\",\"Government Policies to Enforce Agreement Against Homophobia and Stigmatization in\",\"The impact of wars on European countries, with a focus on Ukraine,\",\"Polish Society under the Leadership of President Andrzej Duda\",\"The general topic that balances specificity with generality is:Winter Storms and Rain\",\"The general topic that balances specificity with generality is:Winter Storms and Rain\",\"Polish Society under the Leadership of President Andrzej Duda\",\"The impact of wars on European countries, with a focus on Ukraine,\",\"Rebuilding Process in Archaeology and Art from the 21st Century\",\"The impact of wars on European countries, with a focus on Ukraine,\",\"Government Policies to Enforce Agreement Against Homophobia and Stigmatization in\",\"Rebuilding Process in Archaeology and Art from the 21st Century\",\"Rebuilding Process in Archaeology and Art from the 21st Century\",\"Rebuilding Process in Archaeology and Art from the 21st Century\",\"The Role of Politicians in Nationalist and Socialist Movements During Revolution\",\"Polish Society under the Leadership of President Andrzej Duda\",\"Polish Society under the Leadership of President Andrzej Duda\",\"The impact of wars on European countries, with a focus on Ukraine,\",\"Government Policies to Enforce Agreement Against Homophobia and Stigmatization in\",\"Polish Society under the Leadership of President Andrzej Duda\",\"Rebuilding Process in Archaeology and Art from the 21st Century\",\"The Impact of Economic Crises on Economists and Economics.\",\"Polish Society under the Leadership of President Andrzej Duda\",\"The Role of Monarchs and Clergy in Voivodship.\",\"Fuel Energy Production and Usage in Warehouses for Heating and Housekeeping\",\"Rebuilding Process in Archaeology and Art from the 21st Century\",\"Rebuilding Process in Archaeology and Art from the 21st Century\",\"\\\"Dietary Consumption and Funds Transfer in the Context of Inflation\",\"The impact of wars on European countries, with a focus on Ukraine,\",\"The impact of wars on European countries, with a focus on Ukraine,\",\"Rebuilding Process in Archaeology and Art from the 21st Century\",\"Entrepreneurial Success in Education: Using Past Achievements to Support Scholars\",\"Polish Society under the Leadership of President Andrzej Duda\",\"Polish Society under the Leadership of President Andrzej Duda\",\"Polish Society under the Leadership of President Andrzej Duda\",\"Rebuilding Process in Archaeology and Art from the 21st Century\",\"Rebuilding Process in Archaeology and Art from the 21st Century\",\"Rebuilding Process in Archaeology and Art from the 21st Century\",\"Government Policies to Enforce Agreement Against Homophobia and Stigmatization in\",\"Polish Society under the Leadership of President Andrzej Duda\",\"The Role of Monarchs and Clergy in Voivodship.\",\"Rebuilding Process in Archaeology and Art from the 21st Century\",\"Polish Society under the Leadership of President Andrzej Duda\",\"The Impact of Economic Crises on Economists and Economics.\",\"Rebuilding Process in Archaeology and Art from the 21st Century\",\"Fuel Energy Production and Usage in Warehouses for Heating and Housekeeping\",\"Rebuilding Process in Archaeology and Art from the 21st Century\",\"The Impact of Economic Crises on Economists and Economics.\",\"Rebuilding Process in Archaeology and Art from the 21st Century\",\"Entrepreneurial Success in Education: Using Past Achievements to Support Scholars\",\"The Role of Politicians in Nationalist and Socialist Movements During Revolution\",\"Rebuilding Process in Archaeology and Art from the 21st Century\",\"Polish Society under the Leadership of President Andrzej Duda\",\"Polish Society under the Leadership of President Andrzej Duda\",\"Rebuilding Process in Archaeology and Art from the 21st Century\",\"Fuel Energy Production and Usage in Warehouses for Heating and Housekeeping\",\"Rebuilding Process in Archaeology and Art from the 21st Century\",\"Polish Society under the Leadership of President Andrzej Duda\",\"The impact of wars on European countries, with a focus on Ukraine,\",\"The impact of wars on European countries, with a focus on Ukraine,\",\"Rebuilding Process in Archaeology and Art from the 21st Century\",\"Polish Society under the Leadership of President Andrzej Duda\",\"Government Policies to Enforce Agreement Against Homophobia and Stigmatization in\",\"The impact of wars on European countries, with a focus on Ukraine,\",\"Polish Society under the Leadership of President Andrzej Duda\",\"Polish Society under the Leadership of President Andrzej Duda\",\"Polish Society under the Leadership of President Andrzej Duda\",\"Polish Society under the Leadership of President Andrzej Duda\",\"Rebuilding Process in Archaeology and Art from the 21st Century\",\"Government Policies to Enforce Agreement Against Homophobia and Stigmatization in\",\"Polish Society under the Leadership of President Andrzej Duda\",\"Politics of Detainees: Appeals and Accusations.\",\"The Role of Politicians in Nationalist and Socialist Movements During Revolution\",\"The Role of Monarchs and Clergy in Voivodship.\",\"Rebuilding Process in Archaeology and Art from the 21st Century\",\"Government Policies to Enforce Agreement Against Homophobia and Stigmatization in\",\"The Impact of Economic Crises on Economists and Economics.\",\"Rebuilding Process in Archaeology and Art from the 21st Century\",\"Polish Society under the Leadership of President Andrzej Duda\",\"The Role of Politicians in Nationalist and Socialist Movements During Revolution\",\"Rebuilding Process in Archaeology and Art from the 21st Century\",\"\\\"Dietary Consumption and Funds Transfer in the Context of Inflation\",\"Politics of Detainees: Appeals and Accusations.\",\"Polish Society under the Leadership of President Andrzej Duda\",\"Polish Society under the Leadership of President Andrzej Duda\",\"Politics of Detainees: Appeals and Accusations.\",\"Polish Society under the Leadership of President Andrzej Duda\",\"The impact of wars on European countries, with a focus on Ukraine,\",\"Polish Society under the Leadership of President Andrzej Duda\",\"Fuel Energy Production and Usage in Warehouses for Heating and Housekeeping\",\"Rebuilding Process in Archaeology and Art from the 21st Century\",\"Rebuilding Process in Archaeology and Art from the 21st Century\",\"Polish Society under the Leadership of President Andrzej Duda\",\"Polish Society under the Leadership of President Andrzej Duda\",\"The impact of wars on European countries, with a focus on Ukraine,\",\"Polish Society under the Leadership of President Andrzej Duda\",\"Polish Society under the Leadership of President Andrzej Duda\",\"Rebuilding Process in Archaeology and Art from the 21st Century\",\"Polish Society under the Leadership of President Andrzej Duda\",\"Polish Society under the Leadership of President Andrzej Duda\",\"Fuel Energy Production and Usage in Warehouses for Heating and Housekeeping\",\"Rebuilding Process in Archaeology and Art from the 21st Century\",\"Entrepreneurial Success in Education: Using Past Achievements to Support Scholars\",\"Rebuilding Process in Archaeology and Art from the 21st Century\",\"Polish Society under the Leadership of President Andrzej Duda\",\"Polish Society under the Leadership of President Andrzej Duda\",\"Polish Society under the Leadership of President Andrzej Duda\",\"Rebuilding Process in Archaeology and Art from the 21st Century\",\"The impact of wars on European countries, with a focus on Ukraine,\",\"Rebuilding Process in Archaeology and Art from the 21st Century\",\"The general topic that balances specificity with generality is:Winter Storms and Rain\",\"Polish Society under the Leadership of President Andrzej Duda\",\"The impact of wars on European countries, with a focus on Ukraine,\",\"Polish Society under the Leadership of President Andrzej Duda\",\"Polish Society under the Leadership of President Andrzej Duda\",\"Entrepreneurial Success in Education: Using Past Achievements to Support Scholars\",\"\\\"Dietary Consumption and Funds Transfer in the Context of Inflation\",\"Polish Society under the Leadership of President Andrzej Duda\",\"Polish Society under the Leadership of President Andrzej Duda\",\"The Role of Monarchs and Clergy in Voivodship.\",\"The Impact of Economic Crises on Economists and Economics.\",\"The Role of Monarchs and Clergy in Voivodship.\",\"\\\"Dietary Consumption and Funds Transfer in the Context of Inflation\",\"Government Policies to Enforce Agreement Against Homophobia and Stigmatization in\",\"Polish Society under the Leadership of President Andrzej Duda\",\"Polish Society under the Leadership of President Andrzej Duda\",\"Entrepreneurial Success in Education: Using Past Achievements to Support Scholars\",\"Rebuilding Process in Archaeology and Art from the 21st Century\",\"Government Policies to Enforce Agreement Against Homophobia and Stigmatization in\",\"Polish Society under the Leadership of President Andrzej Duda\",\"The impact of wars on European countries, with a focus on Ukraine,\",\"The impact of wars on European countries, with a focus on Ukraine,\",\"Rebuilding Process in Archaeology and Art from the 21st Century\",\"Polish Society under the Leadership of President Andrzej Duda\",\"The Impact of Economic Crises on Economists and Economics.\",\"Entrepreneurial Success in Education: Using Past Achievements to Support Scholars\",\"Polish Society under the Leadership of President Andrzej Duda\",\"The general topic that balances specificity with generality is:Winter Storms and Rain\",\"Polish Society under the Leadership of President Andrzej Duda\",\"Government Policies to Enforce Agreement Against Homophobia and Stigmatization in\",\"Polish Society under the Leadership of President Andrzej Duda\",\"The impact of wars on European countries, with a focus on Ukraine,\",\"Polish Society under the Leadership of President Andrzej Duda\",\"Polish Society under the Leadership of President Andrzej Duda\",\"Rebuilding Process in Archaeology and Art from the 21st Century\",\"Fuel Energy Production and Usage in Warehouses for Heating and Housekeeping\",\"The Impact of Economic Crises on Economists and Economics.\",\"Rebuilding Process in Archaeology and Art from the 21st Century\",\"Rebuilding Process in Archaeology and Art from the 21st Century\",\"The Role of Politicians in Nationalist and Socialist Movements During Revolution\",\"Polish Society under the Leadership of President Andrzej Duda\",\"Rebuilding Process in Archaeology and Art from the 21st Century\",\"Polish Society under the Leadership of President Andrzej Duda\",\"Polish Society under the Leadership of President Andrzej Duda\",\"Polish Society under the Leadership of President Andrzej Duda\",\"The Impact of Economic Crises on Economists and Economics.\",\"Rebuilding Process in Archaeology and Art from the 21st Century\",\"Rebuilding Process in Archaeology and Art from the 21st Century\",\"The impact of wars on European countries, with a focus on Ukraine,\",\"Politics of Detainees: Appeals and Accusations.\",\"Polish Society under the Leadership of President Andrzej Duda\",\"Rebuilding Process in Archaeology and Art from the 21st Century\",\"\\\"Dietary Consumption and Funds Transfer in the Context of Inflation\",\"The impact of wars on European countries, with a focus on Ukraine,\",\"Polish Society under the Leadership of President Andrzej Duda\",\"The impact of wars on European countries, with a focus on Ukraine,\",\"The Role of Monarchs and Clergy in Voivodship.\",\"The Role of Politicians in Nationalist and Socialist Movements During Revolution\",\"Rebuilding Process in Archaeology and Art from the 21st Century\",\"Rebuilding Process in Archaeology and Art from the 21st Century\",\"Polish Society under the Leadership of President Andrzej Duda\",\"Polish Society under the Leadership of President Andrzej Duda\",\"Polish Society under the Leadership of President Andrzej Duda\",\"Government Policies to Enforce Agreement Against Homophobia and Stigmatization in\",\"Rebuilding Process in Archaeology and Art from the 21st Century\",\"Polish Society under the Leadership of President Andrzej Duda\",\"Rebuilding Process in Archaeology and Art from the 21st Century\",\"The impact of wars on European countries, with a focus on Ukraine,\",\"Polish Society under the Leadership of President Andrzej Duda\",\"Polish Society under the Leadership of President Andrzej Duda\",\"\\\"Dietary Consumption and Funds Transfer in the Context of Inflation\",\"Rebuilding Process in Archaeology and Art from the 21st Century\",\"Polish Society under the Leadership of President Andrzej Duda\",\"Polish Society under the Leadership of President Andrzej Duda\"],\"legendgroup\":\"\",\"marker\":{\"color\":[-1,8,-1,-1,5,1,4,2,1,-1,-1,4,4,-1,3,4,-1,4,1,4,-1,4,10,0,4,4,-1,9,1,-1,-1,2,-1,4,1,4,-1,4,-1,6,4,-1,4,2,-1,-1,-1,4,4,-1,4,4,4,-1,4,4,-1,1,7,4,4,4,-1,-1,-1,-1,-1,9,2,2,6,11,11,4,4,-1,4,0,-1,4,9,-1,1,2,-1,10,9,7,1,4,0,0,4,1,-1,1,7,-1,-1,11,9,4,4,1,7,4,-1,3,4,5,2,-1,-1,10,1,1,-1,8,4,4,4,11,-1,-1,7,4,5,-1,4,3,-1,2,-1,3,-1,8,9,11,4,4,-1,2,-1,4,1,1,-1,4,7,1,4,4,4,4,-1,7,4,6,9,5,-1,7,3,-1,4,9,-1,10,6,4,4,6,4,1,4,2,-1,-1,4,4,1,4,4,-1,4,4,2,-1,8,-1,4,4,4,-1,1,-1,0,4,1,4,4,8,10,4,4,5,3,5,10,7,4,4,8,11,7,4,1,1,-1,4,3,8,4,0,4,7,4,1,4,4,-1,2,3,-1,-1,9,4,11,4,4,4,3,-1,-1,1,6,4,-1,10,1,4,1,5,9,-1,-1,4,4,4,7,11,4,-1,1,4,4,10,-1,4,4],\"coloraxis\":\"coloraxis\",\"symbol\":\"circle\"},\"mode\":\"markers\",\"name\":\"\",\"orientation\":\"v\",\"showlegend\":false,\"x\":[-4.729363441467285,-26.322206497192383,-38.644901275634766,55.405357360839844,-51.620216369628906,-17.029314041137695,21.34686279296875,13.116094589233398,-32.79032516479492,-18.664093017578125,3.5183897018432617,20.05097770690918,20.169736862182617,35.06726837158203,-30.110626220703125,18.911842346191406,-39.65515899658203,19.86277198791504,-21.440839767456055,18.430265426635742,57.34691619873047,19.528854370117188,-10.166438102722168,-3.1474971771240234,21.376903533935547,18.209449768066406,-14.41010856628418,-29.77947998046875,-18.742557525634766,-80.50833129882812,14.674402236938477,13.769652366638184,49.25019454956055,21.013824462890625,-7.098496437072754,22.423431396484375,44.18975067138672,8.287013053894043,-32.682167053222656,-8.62580394744873,24.754575729370117,-0.2959023714065552,15.87398624420166,15.447090148925781,37.37736511230469,37.369930267333984,-29.016510009765625,9.650111198425293,15.359006881713867,15.362051010131836,15.87398624420166,16.732711791992188,13.140807151794434,34.052040100097656,16.69025421142578,24.231544494628906,53.69231033325195,-17.90257453918457,-25.080991744995117,10.51006031036377,15.87398624420166,22.42573356628418,76.34165954589844,60.29314422607422,44.17381286621094,-13.021979331970215,25.06673812866211,-30.12357521057129,14.483508110046387,13.349431037902832,-11.924095153808594,-18.61229133605957,-16.345067977905273,20.364166259765625,25.742963790893555,55.40525436401367,10.704185485839844,-2.322479009628296,49.25017166137695,22.084230422973633,-32.9123649597168,57.607574462890625,-9.939170837402344,22.60258674621582,57.15962600708008,-13.242621421813965,-27.35807228088379,-23.520950317382812,-5.752389907836914,27.902265548706055,-2.392141103744507,-1.0210636854171753,7.767282962799072,-32.09676742553711,-15.788110733032227,-21.440853118896484,-22.156742095947266,17.592296600341797,35.30310821533203,-15.618291854858398,-25.925512313842773,22.661884307861328,9.04017448425293,-18.716411590576172,-25.319049835205078,29.55808448791504,-14.497422218322754,-28.73636245727539,15.87398624420166,-46.09983825683594,12.079754829406738,-4.818543910980225,53.691986083984375,-15.121452331542969,-18.35672378540039,-14.311749458312988,-32.63862609863281,-25.749183654785156,17.71546173095703,8.813246726989746,31.675504684448242,-20.05282211303711,-11.894331932067871,3.4436821937561035,-28.692720413208008,15.418140411376953,-53.00691223144531,52.09745788574219,12.865355491638184,-29.774389266967773,-0.9543386101722717,12.004981994628906,-23.477710723876953,-33.5234375,14.674351692199707,-26.817476272583008,-35.393638610839844,-19.431638717651367,21.443252563476562,26.097347259521484,-9.0259370803833,11.367414474487305,3.5184359550476074,26.180526733398438,-3.7142751216888428,0.8531227111816406,-2.5456418991088867,21.364351272583008,-22.416200637817383,-0.8716105818748474,-2.020927906036377,2.107942581176758,22.424747467041016,8.994553565979004,-13.02198314666748,-27.10297203063965,30.099857330322266,-9.652569770812988,-32.91714859008789,-48.966304779052734,-17.79266357421875,-23.18157386779785,-36.01499557495117,-16.965709686279297,14.092538833618164,-33.2288932800293,3.374173164367676,-15.721630096435547,-12.032909393310547,34.737060546875,14.95460033416748,-11.409852981567383,14.540306091308594,-11.646402359008789,28.351552963256836,21.162906646728516,-5.209691524505615,52.09739303588867,13.285834312438965,19.56970977783203,-16.6099910736084,20.174081802368164,17.477825164794922,34.48778533935547,19.948774337768555,27.570152282714844,21.106517791748047,-48.96979522705078,-27.063230514526367,39.46852111816406,19.471656799316406,12.058431625366211,9.039092063903809,-97.221923828125,-0.8716306090354919,28.664306640625,-3.0236544609069824,3.0794334411621094,-31.68631362915039,12.630498886108398,24.43467140197754,-24.796337127685547,-11.87744426727295,11.899737358093262,24.276105880737305,-52.19001770019531,-32.852561950683594,-46.32028579711914,-11.505419731140137,-18.723730087280273,8.436619758605957,22.24039649963379,-28.009990692138672,-17.276613235473633,-25.399110794067383,26.53169059753418,-20.3367977142334,-15.784332275390625,-7.706005573272705,25.68350601196289,-28.366756439208984,-29.229877471923828,18.715482711791992,-3.9031248092651367,19.887619018554688,-25.53072738647461,34.78773880004883,-16.41612434387207,29.036096572875977,31.506961822509766,25.043212890625,13.570446968078613,-33.2901725769043,-20.656341552734375,56.35846710205078,-28.258983612060547,30.1704044342041,-17.479562759399414,24.90784454345703,30.640918731689453,13.662897109985352,-36.079322814941406,27.969797134399414,47.77177429199219,-13.352986335754395,-11.114405632019043,10.41673469543457,28.4415283203125,-13.588241577148438,-3.684138059616089,26.729551315307617,-0.16329063475131989,-52.10504913330078,-27.94835662841797,-1.8310843706130981,-20.655719757080078,23.568710327148438,11.206131935119629,23.552230834960938,-20.028860092163086,-15.43537712097168,33.641273498535156,-11.445335388183594,-1.327263593673706,14.878816604614258,16.06251335144043,-14.740575790405273,-2.6886684894561768,18.17365074157715,16.637968063354492],\"xaxis\":\"x\",\"y\":[-33.924285888671875,-18.685914993286133,-5.540186405181885,-29.60017204284668,1.0956953763961792,32.538909912109375,6.5912628173828125,-41.11752700805664,34.85371017456055,-30.47355079650879,-64.099365234375,8.512836456298828,7.33396577835083,31.512042999267578,-30.98957633972168,7.543684959411621,-5.285560131072998,6.112348556518555,35.22245788574219,8.726360321044922,1.2391395568847656,9.66760540008545,-25.604692459106445,50.36156463623047,7.921909332275391,6.2715020179748535,-39.71565628051758,-9.256264686584473,25.349769592285156,-85.83578491210938,35.88966369628906,-39.05739974975586,-2.488940715789795,9.459556579589844,34.57969284057617,8.712910652160645,-6.6855149269104,9.769561767578125,8.439836502075195,6.319177627563477,2.2707839012145996,14.678592681884766,7.090043067932129,-39.166526794433594,-21.148420333862305,-21.12428092956543,-3.349520683288574,19.61318588256836,-11.248702049255371,37.02094650268555,7.090043067932129,0.5923313498497009,-10.49526309967041,30.17963409423828,15.536554336547852,12.119976043701172,-27.542438507080078,26.734764099121094,3.440610647201538,2.1633658409118652,7.090043067932129,17.91008949279785,-89.26512145996094,-11.999565124511719,-6.689317226409912,-39.13431167602539,-18.15154266357422,-8.416068077087402,-41.855709075927734,-39.75470733642578,5.039065837860107,-16.875019073486328,-13.781742095947266,-5.312458038330078,21.108924865722656,-29.600177764892578,-19.03313446044922,53.78859329223633,-2.4889471530914307,2.240460157394409,-7.295239448547363,21.68663215637207,34.18427276611328,-48.12887954711914,0.34184378385543823,-27.803951263427734,-6.532190799713135,2.527696132659912,34.810726165771484,2.0097110271453857,53.4782600402832,52.535919189453125,-4.056249618530273,34.631507873535156,-118.57794189453125,35.22256088256836,-0.0012366727460175753,-117.52476501464844,28.729766845703125,-12.794511795043945,-7.414901256561279,-0.7173823714256287,20.353763580322266,27.667409896850586,1.4477440118789673,14.601902961730957,-21.85491943359375,-33.85294723510742,7.090043067932129,1.8179880380630493,-33.717708587646484,-33.95383071899414,-27.542545318603516,-24.624784469604492,33.12013626098633,34.35972213745117,8.370997428894043,-17.665800094604492,3.6894211769104004,-6.168802261352539,0.06790706515312195,-12.69491195678711,-29.871084213256836,-66.08782958984375,5.5405073165893555,12.846545219421387,2.160470485687256,19.361360549926758,14.930774688720703,-32.68410110473633,13.661104202270508,-33.24748992919922,-18.60732078552246,-35.56441879272461,35.88976287841797,-13.291603088378906,-6.75077486038208,-13.628820419311523,13.345115661621094,-0.8135554194450378,-21.288311004638672,-39.677127838134766,-64.09994506835938,17.108043670654297,35.2867546081543,33.48503875732422,-20.72390365600586,21.900169372558594,1.6180241107940674,33.90067672729492,12.910924911499023,4.130532741546631,4.731898307800293,13.88646411895752,-39.134273529052734,2.709105968475342,11.155814170837402,5.822423934936523,-5.98260498046875,1.4989420175552368,-30.537439346313477,4.7390666007995605,-36.754764556884766,-29.553627014160156,-11.410650253295898,-8.515098571777344,-67.99759674072266,-20.211576461791992,6.90860652923584,9.861651420593262,3.028057813644409,5.2301435470581055,18.18051528930664,33.8146858215332,8.271980285644531,-35.68020248413086,-23.86592674255371,19.36138916015625,-0.20313434302806854,-1.5821329355239868,26.306739807128906,4.0377678871154785,10.706223487854004,30.093189239501953,15.505745887756348,5.327645778656006,-35.73677444458008,-107.04045104980469,-14.597738265991211,-26.21497917175293,1.5441009998321533,11.552068710327148,5.857112407684326,-31.007604598999023,33.900665283203125,53.0919189453125,50.673458099365234,4.396621227264404,34.723716735839844,4.922485828399658,-4.483504295349121,-14.473955154418945,-25.3406925201416,8.32758617401123,9.573942184448242,-0.208823099732399,-35.73057556152344,1.7724246978759766,-25.54158592224121,2.332063674926758,-4.970805644989014,11.060076713562012,-15.067427635192871,-15.584630966186523,3.7710981369018555,13.6578369140625,36.152320861816406,31.120952606201172,-20.80872917175293,7.673468589782715,-34.137542724609375,-15.310400009155273,18.457490921020508,54.09247589111328,11.647305488586426,5.595484256744385,4.397184371948242,32.25613021850586,-3.6086113452911377,7.5919671058654785,-18.17034339904785,-37.568111419677734,-36.253143310546875,48.32649230957031,-30.735183715820312,-4.446536540985107,18.672529220581055,-15.744908332824707,4.887703895568848,4.093766212463379,-13.017192840576172,-37.0992317199707,52.9490852355957,-107.00904846191406,33.58061599731445,3.296173572540283,-19.492877960205078,52.41925811767578,-24.155597686767578,36.52608871459961,10.686702728271484,35.50737380981445,1.2494455575942993,-6.278878688812256,-22.85264015197754,48.295623779296875,14.969602584838867,-18.251129150390625,6.855783939361572,2.057828426361084,-16.954801559448242,14.367156028747559,-31.064847946166992,32.17557144165039,10.34583854675293,-3.068765640258789,-28.545717239379883,-21.947185516357422,13.125443458557129,21.936952590942383],\"yaxis\":\"y\",\"type\":\"scatter\"}],                        {\"template\":{\"data\":{\"histogram2dcontour\":[{\"type\":\"histogram2dcontour\",\"colorbar\":{\"outlinewidth\":0,\"ticks\":\"\"},\"colorscale\":[[0.0,\"#0d0887\"],[0.1111111111111111,\"#46039f\"],[0.2222222222222222,\"#7201a8\"],[0.3333333333333333,\"#9c179e\"],[0.4444444444444444,\"#bd3786\"],[0.5555555555555556,\"#d8576b\"],[0.6666666666666666,\"#ed7953\"],[0.7777777777777778,\"#fb9f3a\"],[0.8888888888888888,\"#fdca26\"],[1.0,\"#f0f921\"]]}],\"choropleth\":[{\"type\":\"choropleth\",\"colorbar\":{\"outlinewidth\":0,\"ticks\":\"\"}}],\"histogram2d\":[{\"type\":\"histogram2d\",\"colorbar\":{\"outlinewidth\":0,\"ticks\":\"\"},\"colorscale\":[[0.0,\"#0d0887\"],[0.1111111111111111,\"#46039f\"],[0.2222222222222222,\"#7201a8\"],[0.3333333333333333,\"#9c179e\"],[0.4444444444444444,\"#bd3786\"],[0.5555555555555556,\"#d8576b\"],[0.6666666666666666,\"#ed7953\"],[0.7777777777777778,\"#fb9f3a\"],[0.8888888888888888,\"#fdca26\"],[1.0,\"#f0f921\"]]}],\"heatmap\":[{\"type\":\"heatmap\",\"colorbar\":{\"outlinewidth\":0,\"ticks\":\"\"},\"colorscale\":[[0.0,\"#0d0887\"],[0.1111111111111111,\"#46039f\"],[0.2222222222222222,\"#7201a8\"],[0.3333333333333333,\"#9c179e\"],[0.4444444444444444,\"#bd3786\"],[0.5555555555555556,\"#d8576b\"],[0.6666666666666666,\"#ed7953\"],[0.7777777777777778,\"#fb9f3a\"],[0.8888888888888888,\"#fdca26\"],[1.0,\"#f0f921\"]]}],\"heatmapgl\":[{\"type\":\"heatmapgl\",\"colorbar\":{\"outlinewidth\":0,\"ticks\":\"\"},\"colorscale\":[[0.0,\"#0d0887\"],[0.1111111111111111,\"#46039f\"],[0.2222222222222222,\"#7201a8\"],[0.3333333333333333,\"#9c179e\"],[0.4444444444444444,\"#bd3786\"],[0.5555555555555556,\"#d8576b\"],[0.6666666666666666,\"#ed7953\"],[0.7777777777777778,\"#fb9f3a\"],[0.8888888888888888,\"#fdca26\"],[1.0,\"#f0f921\"]]}],\"contourcarpet\":[{\"type\":\"contourcarpet\",\"colorbar\":{\"outlinewidth\":0,\"ticks\":\"\"}}],\"contour\":[{\"type\":\"contour\",\"colorbar\":{\"outlinewidth\":0,\"ticks\":\"\"},\"colorscale\":[[0.0,\"#0d0887\"],[0.1111111111111111,\"#46039f\"],[0.2222222222222222,\"#7201a8\"],[0.3333333333333333,\"#9c179e\"],[0.4444444444444444,\"#bd3786\"],[0.5555555555555556,\"#d8576b\"],[0.6666666666666666,\"#ed7953\"],[0.7777777777777778,\"#fb9f3a\"],[0.8888888888888888,\"#fdca26\"],[1.0,\"#f0f921\"]]}],\"surface\":[{\"type\":\"surface\",\"colorbar\":{\"outlinewidth\":0,\"ticks\":\"\"},\"colorscale\":[[0.0,\"#0d0887\"],[0.1111111111111111,\"#46039f\"],[0.2222222222222222,\"#7201a8\"],[0.3333333333333333,\"#9c179e\"],[0.4444444444444444,\"#bd3786\"],[0.5555555555555556,\"#d8576b\"],[0.6666666666666666,\"#ed7953\"],[0.7777777777777778,\"#fb9f3a\"],[0.8888888888888888,\"#fdca26\"],[1.0,\"#f0f921\"]]}],\"mesh3d\":[{\"type\":\"mesh3d\",\"colorbar\":{\"outlinewidth\":0,\"ticks\":\"\"}}],\"scatter\":[{\"fillpattern\":{\"fillmode\":\"overlay\",\"size\":10,\"solidity\":0.2},\"type\":\"scatter\"}],\"parcoords\":[{\"type\":\"parcoords\",\"line\":{\"colorbar\":{\"outlinewidth\":0,\"ticks\":\"\"}}}],\"scatterpolargl\":[{\"type\":\"scatterpolargl\",\"marker\":{\"colorbar\":{\"outlinewidth\":0,\"ticks\":\"\"}}}],\"bar\":[{\"error_x\":{\"color\":\"#2a3f5f\"},\"error_y\":{\"color\":\"#2a3f5f\"},\"marker\":{\"line\":{\"color\":\"#E5ECF6\",\"width\":0.5},\"pattern\":{\"fillmode\":\"overlay\",\"size\":10,\"solidity\":0.2}},\"type\":\"bar\"}],\"scattergeo\":[{\"type\":\"scattergeo\",\"marker\":{\"colorbar\":{\"outlinewidth\":0,\"ticks\":\"\"}}}],\"scatterpolar\":[{\"type\":\"scatterpolar\",\"marker\":{\"colorbar\":{\"outlinewidth\":0,\"ticks\":\"\"}}}],\"histogram\":[{\"marker\":{\"pattern\":{\"fillmode\":\"overlay\",\"size\":10,\"solidity\":0.2}},\"type\":\"histogram\"}],\"scattergl\":[{\"type\":\"scattergl\",\"marker\":{\"colorbar\":{\"outlinewidth\":0,\"ticks\":\"\"}}}],\"scatter3d\":[{\"type\":\"scatter3d\",\"line\":{\"colorbar\":{\"outlinewidth\":0,\"ticks\":\"\"}},\"marker\":{\"colorbar\":{\"outlinewidth\":0,\"ticks\":\"\"}}}],\"scattermapbox\":[{\"type\":\"scattermapbox\",\"marker\":{\"colorbar\":{\"outlinewidth\":0,\"ticks\":\"\"}}}],\"scatterternary\":[{\"type\":\"scatterternary\",\"marker\":{\"colorbar\":{\"outlinewidth\":0,\"ticks\":\"\"}}}],\"scattercarpet\":[{\"type\":\"scattercarpet\",\"marker\":{\"colorbar\":{\"outlinewidth\":0,\"ticks\":\"\"}}}],\"carpet\":[{\"aaxis\":{\"endlinecolor\":\"#2a3f5f\",\"gridcolor\":\"white\",\"linecolor\":\"white\",\"minorgridcolor\":\"white\",\"startlinecolor\":\"#2a3f5f\"},\"baxis\":{\"endlinecolor\":\"#2a3f5f\",\"gridcolor\":\"white\",\"linecolor\":\"white\",\"minorgridcolor\":\"white\",\"startlinecolor\":\"#2a3f5f\"},\"type\":\"carpet\"}],\"table\":[{\"cells\":{\"fill\":{\"color\":\"#EBF0F8\"},\"line\":{\"color\":\"white\"}},\"header\":{\"fill\":{\"color\":\"#C8D4E3\"},\"line\":{\"color\":\"white\"}},\"type\":\"table\"}],\"barpolar\":[{\"marker\":{\"line\":{\"color\":\"#E5ECF6\",\"width\":0.5},\"pattern\":{\"fillmode\":\"overlay\",\"size\":10,\"solidity\":0.2}},\"type\":\"barpolar\"}],\"pie\":[{\"automargin\":true,\"type\":\"pie\"}]},\"layout\":{\"autotypenumbers\":\"strict\",\"colorway\":[\"#636efa\",\"#EF553B\",\"#00cc96\",\"#ab63fa\",\"#FFA15A\",\"#19d3f3\",\"#FF6692\",\"#B6E880\",\"#FF97FF\",\"#FECB52\"],\"font\":{\"color\":\"#2a3f5f\"},\"hovermode\":\"closest\",\"hoverlabel\":{\"align\":\"left\"},\"paper_bgcolor\":\"white\",\"plot_bgcolor\":\"#E5ECF6\",\"polar\":{\"bgcolor\":\"#E5ECF6\",\"angularaxis\":{\"gridcolor\":\"white\",\"linecolor\":\"white\",\"ticks\":\"\"},\"radialaxis\":{\"gridcolor\":\"white\",\"linecolor\":\"white\",\"ticks\":\"\"}},\"ternary\":{\"bgcolor\":\"#E5ECF6\",\"aaxis\":{\"gridcolor\":\"white\",\"linecolor\":\"white\",\"ticks\":\"\"},\"baxis\":{\"gridcolor\":\"white\",\"linecolor\":\"white\",\"ticks\":\"\"},\"caxis\":{\"gridcolor\":\"white\",\"linecolor\":\"white\",\"ticks\":\"\"}},\"coloraxis\":{\"colorbar\":{\"outlinewidth\":0,\"ticks\":\"\"}},\"colorscale\":{\"sequential\":[[0.0,\"#0d0887\"],[0.1111111111111111,\"#46039f\"],[0.2222222222222222,\"#7201a8\"],[0.3333333333333333,\"#9c179e\"],[0.4444444444444444,\"#bd3786\"],[0.5555555555555556,\"#d8576b\"],[0.6666666666666666,\"#ed7953\"],[0.7777777777777778,\"#fb9f3a\"],[0.8888888888888888,\"#fdca26\"],[1.0,\"#f0f921\"]],\"sequentialminus\":[[0.0,\"#0d0887\"],[0.1111111111111111,\"#46039f\"],[0.2222222222222222,\"#7201a8\"],[0.3333333333333333,\"#9c179e\"],[0.4444444444444444,\"#bd3786\"],[0.5555555555555556,\"#d8576b\"],[0.6666666666666666,\"#ed7953\"],[0.7777777777777778,\"#fb9f3a\"],[0.8888888888888888,\"#fdca26\"],[1.0,\"#f0f921\"]],\"diverging\":[[0,\"#8e0152\"],[0.1,\"#c51b7d\"],[0.2,\"#de77ae\"],[0.3,\"#f1b6da\"],[0.4,\"#fde0ef\"],[0.5,\"#f7f7f7\"],[0.6,\"#e6f5d0\"],[0.7,\"#b8e186\"],[0.8,\"#7fbc41\"],[0.9,\"#4d9221\"],[1,\"#276419\"]]},\"xaxis\":{\"gridcolor\":\"white\",\"linecolor\":\"white\",\"ticks\":\"\",\"title\":{\"standoff\":15},\"zerolinecolor\":\"white\",\"automargin\":true,\"zerolinewidth\":2},\"yaxis\":{\"gridcolor\":\"white\",\"linecolor\":\"white\",\"ticks\":\"\",\"title\":{\"standoff\":15},\"zerolinecolor\":\"white\",\"automargin\":true,\"zerolinewidth\":2},\"scene\":{\"xaxis\":{\"backgroundcolor\":\"#E5ECF6\",\"gridcolor\":\"white\",\"linecolor\":\"white\",\"showbackground\":true,\"ticks\":\"\",\"zerolinecolor\":\"white\",\"gridwidth\":2},\"yaxis\":{\"backgroundcolor\":\"#E5ECF6\",\"gridcolor\":\"white\",\"linecolor\":\"white\",\"showbackground\":true,\"ticks\":\"\",\"zerolinecolor\":\"white\",\"gridwidth\":2},\"zaxis\":{\"backgroundcolor\":\"#E5ECF6\",\"gridcolor\":\"white\",\"linecolor\":\"white\",\"showbackground\":true,\"ticks\":\"\",\"zerolinecolor\":\"white\",\"gridwidth\":2}},\"shapedefaults\":{\"line\":{\"color\":\"#2a3f5f\"}},\"annotationdefaults\":{\"arrowcolor\":\"#2a3f5f\",\"arrowhead\":0,\"arrowwidth\":1},\"geo\":{\"bgcolor\":\"white\",\"landcolor\":\"#E5ECF6\",\"subunitcolor\":\"white\",\"showland\":true,\"showlakes\":true,\"lakecolor\":\"white\"},\"title\":{\"x\":0.05},\"mapbox\":{\"style\":\"light\"}}},\"xaxis\":{\"anchor\":\"y\",\"domain\":[0.0,1.0],\"title\":{\"text\":\"x\"}},\"yaxis\":{\"anchor\":\"x\",\"domain\":[0.0,1.0],\"title\":{\"text\":\"y\"}},\"coloraxis\":{\"colorbar\":{\"title\":{\"text\":\"color\"}},\"colorscale\":[[0.0,\"#0d0887\"],[0.1111111111111111,\"#46039f\"],[0.2222222222222222,\"#7201a8\"],[0.3333333333333333,\"#9c179e\"],[0.4444444444444444,\"#bd3786\"],[0.5555555555555556,\"#d8576b\"],[0.6666666666666666,\"#ed7953\"],[0.7777777777777778,\"#fb9f3a\"],[0.8888888888888888,\"#fdca26\"],[1.0,\"#f0f921\"]]},\"legend\":{\"tracegroupgap\":0},\"margin\":{\"t\":60}},                        {\"responsive\": true}                    ).then(function(){\n",
              "                            \n",
              "var gd = document.getElementById('a36cdbaa-54c2-4884-897a-902adb003a95');\n",
              "var x = new MutationObserver(function (mutations, observer) {{\n",
              "        var display = window.getComputedStyle(gd).display;\n",
              "        if (!display || display === 'none') {{\n",
              "            console.log([gd, 'removed!']);\n",
              "            Plotly.purge(gd);\n",
              "            observer.disconnect();\n",
              "        }}\n",
              "}});\n",
              "\n",
              "// Listen for the removal of the full notebook cells\n",
              "var notebookContainer = gd.closest('#notebook-container');\n",
              "if (notebookContainer) {{\n",
              "    x.observe(notebookContainer, {childList: true});\n",
              "}}\n",
              "\n",
              "// Listen for the clearing of the current output cell\n",
              "var outputEl = gd.closest('.output');\n",
              "if (outputEl) {{\n",
              "    x.observe(outputEl, {childList: true});\n",
              "}}\n",
              "\n",
              "                        })                };                            </script>        </div>\n",
              "</body>\n",
              "</html>"
            ]
          },
          "metadata": {},
          "output_type": "display_data"
        }
      ],
      "source": [
        "import plotly.express as px\n",
        "fig = px.scatter(x=x, y=y, color=cluster_labels, hover_name=[semantic_labels[x] for x in cluster_labels])\n",
        "fig.show()"
      ]
    },
    {
      "cell_type": "code",
      "execution_count": 109,
      "id": "1xtOmSh025DQ",
      "metadata": {
        "id": "1xtOmSh025DQ"
      },
      "outputs": [],
      "source": [
        "semantic_labels = list(label_to_semantic_topic.values())"
      ]
    },
    {
      "cell_type": "code",
      "execution_count": 116,
      "id": "2bLj6JTl0yzj",
      "metadata": {
        "id": "2bLj6JTl0yzj"
      },
      "outputs": [],
      "source": [
        "import openai\n",
        "openai.api_key = \"sk-KEY HERE\"\n",
        "\n",
        "def get_semantic_label(keystring):\n",
        "  proompt = f\"The following keywords were pulled from variety of media sources. There is no guarantee they share a topic. Combine the following keywords into a general topic that balances specificity with generality. Only reply with a single, brief phrase that is the topic. Do not include any quotation marks:{keystring}\"\n",
        "\n",
        "  completion = openai.Completion.create(model=\"text-davinci-003\", prompt=proompt)\n",
        "  response = completion.choices[0].text\n",
        "  filter = ''.join([chr(i) for i in range(1, 32)])\n",
        "  return response.translate(str.maketrans('', '', filter))"
      ]
    },
    {
      "cell_type": "code",
      "execution_count": 117,
      "id": "xGQSaxecvZRa",
      "metadata": {
        "colab": {
          "base_uri": "https://localhost:8080/"
        },
        "id": "xGQSaxecvZRa",
        "outputId": "cf6762c3-2a82-456e-9a3d-f81750ab6f4e"
      },
      "outputs": [
        {
          "name": "stderr",
          "output_type": "stream",
          "text": [
            "100%|██████████| 13/13 [00:12<00:00,  1.01it/s]\n"
          ]
        }
      ],
      "source": [
        "label_to_semantic_topic = {}\n",
        "for label in tqdm(np.unique(cluster_labels)):\n",
        "  class_indeces = np.where(cluster_labels == label)\n",
        "  topic_keywords = np.array(all_keywords)[class_indeces]\n",
        "  if label != -1:\n",
        "    keystring = \" \".join(topic_keywords)\n",
        "    response = get_semantic_label(keystring)\n",
        "    label_to_semantic_topic[label] = response"
      ]
    },
    {
      "cell_type": "code",
      "execution_count": 119,
      "id": "gNF63P3h23bI",
      "metadata": {
        "colab": {
          "base_uri": "https://localhost:8080/"
        },
        "id": "gNF63P3h23bI",
        "outputId": "a836c486-1b7d-4b7f-976e-a12f992c24be"
      },
      "outputs": [
        {
          "data": {
            "text/plain": [
              "{0: 'Winter Storms',\n",
              " 1: 'European Wars in Eastern Europe',\n",
              " 2: 'Energy Efficiency in Homes',\n",
              " 3: 'Economic Crisis',\n",
              " 4: ' politicsPolish Political Context',\n",
              " 5: 'Monarchial Clergy',\n",
              " 6: 'Political Detentions',\n",
              " 7: ' LGBTQ Rights in Government',\n",
              " 8: 'Education and Employment',\n",
              " 9: 'Political Ideology and Revolution',\n",
              " 10: 'Dietary Supplement Economics',\n",
              " 11: 'Archaeological Development and Reconstruction'}"
            ]
          },
          "execution_count": 119,
          "metadata": {},
          "output_type": "execute_result"
        }
      ],
      "source": [
        "def cluster_label_to_document(label_idx, )\n"
      ]
    }
  ],
  "metadata": {
    "colab": {
      "provenance": []
    },
    "kernelspec": {
      "display_name": "Python 3",
      "name": "python3"
    },
    "language_info": {
      "codemirror_mode": {
        "name": "ipython",
        "version": 3
      },
      "file_extension": ".py",
      "mimetype": "text/x-python",
      "name": "python",
      "nbconvert_exporter": "python",
      "pygments_lexer": "ipython3",
      "version": "3.10.4"
    }
  },
  "nbformat": 4,
  "nbformat_minor": 5
}
